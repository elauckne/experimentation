{
 "cells": [
  {
   "cell_type": "markdown",
   "metadata": {},
   "source": [
    "# Automated ML\n",
    "---\n",
    "\n",
    "AutoML algorithms try to find the optimal pipeline:\n",
    "* Multiple machine learning algorithms (random forests, linear models, SVMs, etc.)\n",
    "* Multiple preprocessing steps (missing value imputation, scaling, PCA, feature selection, etc.)\n",
    "* Hyperparameters for all of the models and preprocessing steps\n",
    "* Multiple ways to ensemble or stack the algorithms\n",
    "\n",
    "\n",
    "Libraries:\n",
    "* H2O\n",
    "* TPOT\n",
    "* auto-sklearn (not supported for Windows)\n",
    "\n",
    "Author: Enrico Lauckner <github.com/elauckne>"
   ]
  },
  {
   "cell_type": "code",
   "execution_count": 1,
   "metadata": {},
   "outputs": [],
   "source": [
    "import pandas as pd\n",
    "import numpy as np\n",
    "import timeit\n",
    "import os\n",
    "\n",
    "from sklearn.datasets import load_breast_cancer\n",
    "\n",
    "from tpot import TPOTClassifier\n",
    "\n",
    "from sklearn.model_selection import train_test_split\n",
    "from sklearn.metrics import accuracy_score"
   ]
  },
  {
   "cell_type": "markdown",
   "metadata": {},
   "source": [
    "Setup Result Table"
   ]
  },
  {
   "cell_type": "code",
   "execution_count": 2,
   "metadata": {},
   "outputs": [],
   "source": [
    "def add_results(run, elapsed, accuracy, file = 'results/results_automl.csv'):\n",
    "    \n",
    "    if os.path.exists(file):\n",
    "        results = pd.read_csv('results/results_automl.csv')\n",
    "    else:\n",
    "        results = pd.DataFrame(columns=['Run', 'Elapsed', 'Accuracy'])\n",
    "        \n",
    "    results.loc[len(results)] = [run, elapsed, accuracy]\n",
    "    results.to_csv(file, index=False)\n",
    "    \n",
    "    return results"
   ]
  },
  {
   "cell_type": "code",
   "execution_count": 3,
   "metadata": {},
   "outputs": [],
   "source": [
    "seed = 666\n",
    "cores = 3"
   ]
  },
  {
   "cell_type": "markdown",
   "metadata": {},
   "source": [
    "## Prepare Data"
   ]
  },
  {
   "cell_type": "code",
   "execution_count": 4,
   "metadata": {},
   "outputs": [],
   "source": [
    "bc = load_breast_cancer()"
   ]
  },
  {
   "cell_type": "code",
   "execution_count": 5,
   "metadata": {},
   "outputs": [],
   "source": [
    "x = bc.data\n",
    "y = bc.target\n",
    "feature_names = bc.feature_names"
   ]
  },
  {
   "cell_type": "markdown",
   "metadata": {},
   "source": [
    "Train Test Split"
   ]
  },
  {
   "cell_type": "code",
   "execution_count": 6,
   "metadata": {},
   "outputs": [],
   "source": [
    "x_trn, x_val, y_trn, y_val = train_test_split(x, y, test_size = .2, random_state = seed)"
   ]
  },
  {
   "cell_type": "markdown",
   "metadata": {},
   "source": [
    "## TPOT\n",
    "\n",
    "[TPOTClassifier Parameters](https://epistasislab.github.io/tpot/api/)  \n",
    "[Tutorial](https://towardsdatascience.com/tpot-automated-machine-learning-in-python-4c063b3e5de9)\n",
    "\n",
    "#### TPOTClassifier Default Configuration\n",
    "\n",
    "* generations = 50\n",
    "* population_size = 50\n",
    "* offspring_size = population_size\n",
    "* cv = 5"
   ]
  },
  {
   "cell_type": "code",
   "execution_count": 7,
   "metadata": {},
   "outputs": [
    {
     "data": {
      "text/plain": [
       "TPOTClassifier(config_dict=None, crossover_rate=0.1, cv=5,\n",
       "        disable_update_check=False, early_stop=None, generations=100,\n",
       "        max_eval_time_mins=5, max_time_mins=None, memory=None,\n",
       "        mutation_rate=0.9, n_jobs=1, offspring_size=None,\n",
       "        periodic_checkpoint_folder=None, population_size=100,\n",
       "        random_state=None, scoring=None, subsample=1.0, use_dask=False,\n",
       "        verbosity=0, warm_start=False)"
      ]
     },
     "execution_count": 7,
     "metadata": {},
     "output_type": "execute_result"
    }
   ],
   "source": [
    "TPOTClassifier()"
   ]
  },
  {
   "cell_type": "markdown",
   "metadata": {},
   "source": [
    "#### Small Test (5/5)\n",
    "\n",
    "* generations = 5\n",
    "* population_size = 5"
   ]
  },
  {
   "cell_type": "code",
   "execution_count": 8,
   "metadata": {},
   "outputs": [],
   "source": [
    "tpot = TPOTClassifier(random_state=seed, \n",
    "                     n_jobs=-1, \n",
    "                     generations=5, \n",
    "                     population_size=5,\n",
    "                     cv=5)"
   ]
  },
  {
   "cell_type": "code",
   "execution_count": 9,
   "metadata": {
    "scrolled": true
   },
   "outputs": [
    {
     "name": "stdout",
     "output_type": "stream",
     "text": [
      "Elapsed (s):  25\n",
      "Accuracy:     0.904\n"
     ]
    }
   ],
   "source": [
    "run = 'tpot (5/5)'\n",
    "\n",
    "start_time = timeit.default_timer()\n",
    "tpot.fit(x_trn, y_trn)\n",
    "elapsed = round(timeit.default_timer() - start_time)\n",
    "accuracy = tpot.score(x_val, y_val).round(3)\n",
    "\n",
    "add_results(run, elapsed, accuracy)\n",
    "\n",
    "print('Elapsed (s): ', elapsed)\n",
    "print('Accuracy:    ', accuracy)"
   ]
  },
  {
   "cell_type": "code",
   "execution_count": 10,
   "metadata": {
    "scrolled": true
   },
   "outputs": [
    {
     "data": {
      "text/plain": [
       "Pipeline(memory=None,\n",
       "     steps=[('stackingestimator', StackingEstimator(estimator=ExtraTreesClassifier(bootstrap=False, class_weight=None, criterion='entropy',\n",
       "           max_depth=None, max_features=0.05, max_leaf_nodes=None,\n",
       "           min_impurity_decrease=0.0, min_impurity_split=None,\n",
       "           min_samples_leaf=9, min_...tors=100, n_jobs=None,\n",
       "           oob_score=False, random_state=None, verbose=0, warm_start=False))])"
      ]
     },
     "execution_count": 10,
     "metadata": {},
     "output_type": "execute_result"
    }
   ],
   "source": [
    "tpot.fitted_pipeline_"
   ]
  },
  {
   "cell_type": "markdown",
   "metadata": {},
   "source": [
    "#### 10/50"
   ]
  },
  {
   "cell_type": "code",
   "execution_count": 11,
   "metadata": {},
   "outputs": [],
   "source": [
    "tpot = TPOTClassifier(random_state=seed, \n",
    "                     n_jobs=-1, \n",
    "                     generations=10, \n",
    "                     population_size=50,\n",
    "                     cv=5)"
   ]
  },
  {
   "cell_type": "code",
   "execution_count": 12,
   "metadata": {
    "scrolled": false
   },
   "outputs": [
    {
     "name": "stdout",
     "output_type": "stream",
     "text": [
      "Elapsed (s):  368\n",
      "Accuracy:     0.982\n"
     ]
    }
   ],
   "source": [
    "run = 'tpot (10/50)'\n",
    "\n",
    "start_time = timeit.default_timer()\n",
    "tpot.fit(x_trn, y_trn)\n",
    "elapsed = round(timeit.default_timer() - start_time)\n",
    "accuracy = tpot.score(x_val, y_val).round(3)\n",
    "\n",
    "add_results(run, elapsed, accuracy)\n",
    "\n",
    "print('Elapsed (s): ', elapsed)\n",
    "print('Accuracy:    ', accuracy)"
   ]
  },
  {
   "cell_type": "code",
   "execution_count": 13,
   "metadata": {
    "scrolled": true
   },
   "outputs": [
    {
     "data": {
      "text/plain": [
       "Pipeline(memory=None,\n",
       "     steps=[('minmaxscaler', MinMaxScaler(copy=True, feature_range=(0, 1))), ('pca', PCA(copy=True, iterated_power=8, n_components=None, random_state=None,\n",
       "  svd_solver='randomized', tol=0.0, whiten=False)), ('stackingestimator', StackingEstimator(estimator=LinearSVC(C=1.0, class_weight=None, dual=False,...penalty='l2', random_state=None, solver='warn',\n",
       "          tol=0.0001, verbose=0, warm_start=False))])"
      ]
     },
     "execution_count": 13,
     "metadata": {},
     "output_type": "execute_result"
    }
   ],
   "source": [
    "tpot.fitted_pipeline_"
   ]
  },
  {
   "cell_type": "markdown",
   "metadata": {},
   "source": [
    "#### Default (50/50)"
   ]
  },
  {
   "cell_type": "code",
   "execution_count": 14,
   "metadata": {},
   "outputs": [],
   "source": [
    "tpot = TPOTClassifier(random_state=seed, \n",
    "                     n_jobs=-1, \n",
    "                     cv=5)"
   ]
  },
  {
   "cell_type": "code",
   "execution_count": 15,
   "metadata": {
    "scrolled": false
   },
   "outputs": [
    {
     "name": "stderr",
     "output_type": "stream",
     "text": [
      "C:\\Users\\elauckner\\Anaconda3\\lib\\site-packages\\sklearn\\preprocessing\\_function_transformer.py:98: FutureWarning: The default validate=True will be replaced by validate=False in 0.22.\n",
      "  \"validate=False in 0.22.\", FutureWarning)\n",
      "C:\\Users\\elauckner\\Anaconda3\\lib\\site-packages\\sklearn\\preprocessing\\_function_transformer.py:98: FutureWarning: The default validate=True will be replaced by validate=False in 0.22.\n",
      "  \"validate=False in 0.22.\", FutureWarning)\n"
     ]
    },
    {
     "name": "stdout",
     "output_type": "stream",
     "text": [
      "Elapsed (s):  4997\n",
      "Accuracy:     0.982\n"
     ]
    }
   ],
   "source": [
    "run = 'tpot (50/50)'\n",
    "\n",
    "start_time = timeit.default_timer()\n",
    "tpot.fit(x_trn, y_trn)\n",
    "elapsed = round(timeit.default_timer() - start_time)\n",
    "accuracy = tpot.score(x_val, y_val).round(3)\n",
    "\n",
    "add_results(run, elapsed, accuracy)\n",
    "\n",
    "print('Elapsed (s): ', elapsed)\n",
    "print('Accuracy:    ', accuracy)"
   ]
  },
  {
   "cell_type": "code",
   "execution_count": 16,
   "metadata": {
    "scrolled": false
   },
   "outputs": [
    {
     "data": {
      "text/plain": [
       "Pipeline(memory=None,\n",
       "     steps=[('featureunion', FeatureUnion(n_jobs=None,\n",
       "       transformer_list=[('functiontransformer-1', FunctionTransformer(accept_sparse=False, check_inverse=True,\n",
       "          func=<function copy at 0x000001EBB84341E0>, inv_kw_args=None,\n",
       "          inverse_func=None, kw_args=None, pass_y='deprecated',\n",
       "  ...penalty='l2', random_state=None, solver='warn',\n",
       "          tol=0.0001, verbose=0, warm_start=False))])"
      ]
     },
     "execution_count": 16,
     "metadata": {},
     "output_type": "execute_result"
    }
   ],
   "source": [
    "tpot.fitted_pipeline_"
   ]
  },
  {
   "cell_type": "markdown",
   "metadata": {},
   "source": [
    "### TPOT Results"
   ]
  },
  {
   "cell_type": "code",
   "execution_count": 18,
   "metadata": {},
   "outputs": [
    {
     "data": {
      "text/html": [
       "<div>\n",
       "<style scoped>\n",
       "    .dataframe tbody tr th:only-of-type {\n",
       "        vertical-align: middle;\n",
       "    }\n",
       "\n",
       "    .dataframe tbody tr th {\n",
       "        vertical-align: top;\n",
       "    }\n",
       "\n",
       "    .dataframe thead th {\n",
       "        text-align: right;\n",
       "    }\n",
       "</style>\n",
       "<table border=\"1\" class=\"dataframe\">\n",
       "  <thead>\n",
       "    <tr style=\"text-align: right;\">\n",
       "      <th></th>\n",
       "      <th>Run</th>\n",
       "      <th>Elapsed</th>\n",
       "      <th>Accuracy</th>\n",
       "    </tr>\n",
       "  </thead>\n",
       "  <tbody>\n",
       "    <tr>\n",
       "      <th>0</th>\n",
       "      <td>tpot (5/5)</td>\n",
       "      <td>25</td>\n",
       "      <td>0.904</td>\n",
       "    </tr>\n",
       "    <tr>\n",
       "      <th>1</th>\n",
       "      <td>tpot (10/50)</td>\n",
       "      <td>368</td>\n",
       "      <td>0.982</td>\n",
       "    </tr>\n",
       "    <tr>\n",
       "      <th>2</th>\n",
       "      <td>tpot (50/50)</td>\n",
       "      <td>4997</td>\n",
       "      <td>0.982</td>\n",
       "    </tr>\n",
       "  </tbody>\n",
       "</table>\n",
       "</div>"
      ],
      "text/plain": [
       "            Run  Elapsed  Accuracy\n",
       "0    tpot (5/5)       25     0.904\n",
       "1  tpot (10/50)      368     0.982\n",
       "2  tpot (50/50)     4997     0.982"
      ]
     },
     "execution_count": 18,
     "metadata": {},
     "output_type": "execute_result"
    }
   ],
   "source": [
    "pd.read_csv('results/results_automl.csv')"
   ]
  },
  {
   "cell_type": "markdown",
   "metadata": {},
   "source": [
    "Export Pipeline as Script"
   ]
  },
  {
   "cell_type": "code",
   "execution_count": 19,
   "metadata": {},
   "outputs": [
    {
     "data": {
      "text/plain": [
       "True"
      ]
     },
     "execution_count": 19,
     "metadata": {},
     "output_type": "execute_result"
    }
   ],
   "source": [
    "tpot.export('results/tpot_pipe.py')"
   ]
  },
  {
   "cell_type": "code",
   "execution_count": 28,
   "metadata": {},
   "outputs": [
    {
     "data": {
      "text/plain": [
       "(9504, 6)"
      ]
     },
     "execution_count": 28,
     "metadata": {},
     "output_type": "execute_result"
    }
   ],
   "source": [
    "results_tpot = pd.DataFrame.from_dict(tpot.evaluated_individuals_).T\n",
    "results_tpot.shape"
   ]
  },
  {
   "cell_type": "code",
   "execution_count": 30,
   "metadata": {},
   "outputs": [
    {
     "data": {
      "text/html": [
       "<div>\n",
       "<style scoped>\n",
       "    .dataframe tbody tr th:only-of-type {\n",
       "        vertical-align: middle;\n",
       "    }\n",
       "\n",
       "    .dataframe tbody tr th {\n",
       "        vertical-align: top;\n",
       "    }\n",
       "\n",
       "    .dataframe thead th {\n",
       "        text-align: right;\n",
       "    }\n",
       "</style>\n",
       "<table border=\"1\" class=\"dataframe\">\n",
       "  <thead>\n",
       "    <tr style=\"text-align: right;\">\n",
       "      <th></th>\n",
       "      <th>crossover_count</th>\n",
       "      <th>generation</th>\n",
       "      <th>internal_cv_score</th>\n",
       "      <th>mutation_count</th>\n",
       "      <th>operator_count</th>\n",
       "      <th>predecessor</th>\n",
       "    </tr>\n",
       "  </thead>\n",
       "  <tbody>\n",
       "    <tr>\n",
       "      <th>LogisticRegression(StandardScaler(CombineDFs(input_matrix, ZeroCount(MinMaxScaler(ZeroCount(input_matrix))))), LogisticRegression__C=0.1, LogisticRegression__dual=False, LogisticRegression__penalty=l2)</th>\n",
       "      <td>0</td>\n",
       "      <td>INVALID</td>\n",
       "      <td>0.984615</td>\n",
       "      <td>10</td>\n",
       "      <td>5</td>\n",
       "      <td>(LogisticRegression(StandardScaler(CombineDFs(...</td>\n",
       "    </tr>\n",
       "    <tr>\n",
       "      <th>LogisticRegression(StandardScaler(CombineDFs(input_matrix, MaxAbsScaler(input_matrix))), LogisticRegression__C=0.1, LogisticRegression__dual=True, LogisticRegression__penalty=l2)</th>\n",
       "      <td>0</td>\n",
       "      <td>INVALID</td>\n",
       "      <td>0.984615</td>\n",
       "      <td>9</td>\n",
       "      <td>3</td>\n",
       "      <td>(LogisticRegression(StandardScaler(CombineDFs(...</td>\n",
       "    </tr>\n",
       "    <tr>\n",
       "      <th>LogisticRegression(StandardScaler(CombineDFs(Binarizer(input_matrix, Binarizer__threshold=0.9), OneHotEncoder(CombineDFs(input_matrix, input_matrix), OneHotEncoder__minimum_fraction=0.15, OneHotEncoder__sparse=False, OneHotEncoder__threshold=10))), LogisticRegression__C=0.1, LogisticRegression__dual=False, LogisticRegression__penalty=l2)</th>\n",
       "      <td>2</td>\n",
       "      <td>INVALID</td>\n",
       "      <td>0.984615</td>\n",
       "      <td>12</td>\n",
       "      <td>4</td>\n",
       "      <td>(LogisticRegression(StandardScaler(CombineDFs(...</td>\n",
       "    </tr>\n",
       "    <tr>\n",
       "      <th>LogisticRegression(StandardScaler(CombineDFs(ZeroCount(OneHotEncoder(input_matrix, OneHotEncoder__minimum_fraction=0.05, OneHotEncoder__sparse=False, OneHotEncoder__threshold=10)), input_matrix)), LogisticRegression__C=0.1, LogisticRegression__dual=False, LogisticRegression__penalty=l2)</th>\n",
       "      <td>2</td>\n",
       "      <td>INVALID</td>\n",
       "      <td>0.984615</td>\n",
       "      <td>15</td>\n",
       "      <td>4</td>\n",
       "      <td>(LogisticRegression(StandardScaler(CombineDFs(...</td>\n",
       "    </tr>\n",
       "    <tr>\n",
       "      <th>LogisticRegression(StandardScaler(CombineDFs(BernoulliNB(BernoulliNB(input_matrix, BernoulliNB__alpha=0.01, BernoulliNB__fit_prior=False), BernoulliNB__alpha=100.0, BernoulliNB__fit_prior=True), input_matrix)), LogisticRegression__C=0.1, LogisticRegression__dual=False, LogisticRegression__penalty=l2)</th>\n",
       "      <td>2</td>\n",
       "      <td>INVALID</td>\n",
       "      <td>0.984615</td>\n",
       "      <td>13</td>\n",
       "      <td>4</td>\n",
       "      <td>(LogisticRegression(StandardScaler(CombineDFs(...</td>\n",
       "    </tr>\n",
       "  </tbody>\n",
       "</table>\n",
       "</div>"
      ],
      "text/plain": [
       "                                                   crossover_count generation  \\\n",
       "LogisticRegression(StandardScaler(CombineDFs(in...               0    INVALID   \n",
       "LogisticRegression(StandardScaler(CombineDFs(in...               0    INVALID   \n",
       "LogisticRegression(StandardScaler(CombineDFs(Bi...               2    INVALID   \n",
       "LogisticRegression(StandardScaler(CombineDFs(Ze...               2    INVALID   \n",
       "LogisticRegression(StandardScaler(CombineDFs(Be...               2    INVALID   \n",
       "\n",
       "                                                   internal_cv_score  \\\n",
       "LogisticRegression(StandardScaler(CombineDFs(in...          0.984615   \n",
       "LogisticRegression(StandardScaler(CombineDFs(in...          0.984615   \n",
       "LogisticRegression(StandardScaler(CombineDFs(Bi...          0.984615   \n",
       "LogisticRegression(StandardScaler(CombineDFs(Ze...          0.984615   \n",
       "LogisticRegression(StandardScaler(CombineDFs(Be...          0.984615   \n",
       "\n",
       "                                                   mutation_count  \\\n",
       "LogisticRegression(StandardScaler(CombineDFs(in...             10   \n",
       "LogisticRegression(StandardScaler(CombineDFs(in...              9   \n",
       "LogisticRegression(StandardScaler(CombineDFs(Bi...             12   \n",
       "LogisticRegression(StandardScaler(CombineDFs(Ze...             15   \n",
       "LogisticRegression(StandardScaler(CombineDFs(Be...             13   \n",
       "\n",
       "                                                   operator_count  \\\n",
       "LogisticRegression(StandardScaler(CombineDFs(in...              5   \n",
       "LogisticRegression(StandardScaler(CombineDFs(in...              3   \n",
       "LogisticRegression(StandardScaler(CombineDFs(Bi...              4   \n",
       "LogisticRegression(StandardScaler(CombineDFs(Ze...              4   \n",
       "LogisticRegression(StandardScaler(CombineDFs(Be...              4   \n",
       "\n",
       "                                                                                          predecessor  \n",
       "LogisticRegression(StandardScaler(CombineDFs(in...  (LogisticRegression(StandardScaler(CombineDFs(...  \n",
       "LogisticRegression(StandardScaler(CombineDFs(in...  (LogisticRegression(StandardScaler(CombineDFs(...  \n",
       "LogisticRegression(StandardScaler(CombineDFs(Bi...  (LogisticRegression(StandardScaler(CombineDFs(...  \n",
       "LogisticRegression(StandardScaler(CombineDFs(Ze...  (LogisticRegression(StandardScaler(CombineDFs(...  \n",
       "LogisticRegression(StandardScaler(CombineDFs(Be...  (LogisticRegression(StandardScaler(CombineDFs(...  "
      ]
     },
     "execution_count": 30,
     "metadata": {},
     "output_type": "execute_result"
    }
   ],
   "source": [
    "results_tpot.sort_values('internal_cv_score', ascending=False).head()"
   ]
  },
  {
   "cell_type": "code",
   "execution_count": 32,
   "metadata": {},
   "outputs": [
    {
     "data": {
      "text/html": [
       "<div>\n",
       "<style scoped>\n",
       "    .dataframe tbody tr th:only-of-type {\n",
       "        vertical-align: middle;\n",
       "    }\n",
       "\n",
       "    .dataframe tbody tr th {\n",
       "        vertical-align: top;\n",
       "    }\n",
       "\n",
       "    .dataframe thead th {\n",
       "        text-align: right;\n",
       "    }\n",
       "</style>\n",
       "<table border=\"1\" class=\"dataframe\">\n",
       "  <thead>\n",
       "    <tr style=\"text-align: right;\">\n",
       "      <th></th>\n",
       "      <th>crossover_count</th>\n",
       "      <th>generation</th>\n",
       "      <th>internal_cv_score</th>\n",
       "      <th>mutation_count</th>\n",
       "      <th>operator_count</th>\n",
       "      <th>predecessor</th>\n",
       "    </tr>\n",
       "  </thead>\n",
       "  <tbody>\n",
       "    <tr>\n",
       "      <th>GradientBoostingClassifier(SelectFromModel(input_matrix, SelectFromModel__ExtraTreesClassifier__criterion=gini, SelectFromModel__ExtraTreesClassifier__max_features=0.9500000000000001, SelectFromModel__ExtraTreesClassifier__n_estimators=100, SelectFromModel__threshold=0.2), GradientBoostingClassifier__learning_rate=0.1, GradientBoostingClassifier__max_depth=4, GradientBoostingClassifier__max_features=0.35000000000000003, GradientBoostingClassifier__min_samples_leaf=16, GradientBoostingClassifier__min_samples_split=12, GradientBoostingClassifier__n_estimators=100, GradientBoostingClassifier__subsample=0.15000000000000002)</th>\n",
       "      <td>0</td>\n",
       "      <td>INVALID</td>\n",
       "      <td>-inf</td>\n",
       "      <td>10</td>\n",
       "      <td>2</td>\n",
       "      <td>(GradientBoostingClassifier(input_matrix, Grad...</td>\n",
       "    </tr>\n",
       "    <tr>\n",
       "      <th>LinearSVC(SelectFromModel(input_matrix, SelectFromModel__ExtraTreesClassifier__criterion=gini, SelectFromModel__ExtraTreesClassifier__max_features=0.9000000000000001, SelectFromModel__ExtraTreesClassifier__n_estimators=100, SelectFromModel__threshold=0.25), LinearSVC__C=15.0, LinearSVC__dual=False, LinearSVC__loss=squared_hinge, LinearSVC__penalty=l1, LinearSVC__tol=0.001)</th>\n",
       "      <td>0</td>\n",
       "      <td>INVALID</td>\n",
       "      <td>-inf</td>\n",
       "      <td>3</td>\n",
       "      <td>2</td>\n",
       "      <td>(LinearSVC(input_matrix, LinearSVC__C=15.0, Li...</td>\n",
       "    </tr>\n",
       "    <tr>\n",
       "      <th>LogisticRegression(OneHotEncoder(StandardScaler(CombineDFs(ZeroCount(OneHotEncoder(input_matrix, OneHotEncoder__minimum_fraction=0.15, OneHotEncoder__sparse=False, OneHotEncoder__threshold=10)), input_matrix)), OneHotEncoder__minimum_fraction=0.1, OneHotEncoder__sparse=False, OneHotEncoder__threshold=10), LogisticRegression__C=0.1, LogisticRegression__dual=False, LogisticRegression__penalty=l2)</th>\n",
       "      <td>2</td>\n",
       "      <td>INVALID</td>\n",
       "      <td>-inf</td>\n",
       "      <td>15</td>\n",
       "      <td>5</td>\n",
       "      <td>(LogisticRegression(StandardScaler(CombineDFs(...</td>\n",
       "    </tr>\n",
       "    <tr>\n",
       "      <th>LogisticRegression(SelectFromModel(input_matrix, SelectFromModel__ExtraTreesClassifier__criterion=entropy, SelectFromModel__ExtraTreesClassifier__max_features=0.2, SelectFromModel__ExtraTreesClassifier__n_estimators=100, SelectFromModel__threshold=0.2), LogisticRegression__C=0.1, LogisticRegression__dual=False, LogisticRegression__penalty=l2)</th>\n",
       "      <td>0</td>\n",
       "      <td>0</td>\n",
       "      <td>-inf</td>\n",
       "      <td>0</td>\n",
       "      <td>2</td>\n",
       "      <td>(ROOT,)</td>\n",
       "    </tr>\n",
       "    <tr>\n",
       "      <th>LogisticRegression(SelectFromModel(CombineDFs(input_matrix, input_matrix), SelectFromModel__ExtraTreesClassifier__criterion=gini, SelectFromModel__ExtraTreesClassifier__max_features=0.4, SelectFromModel__ExtraTreesClassifier__n_estimators=100, SelectFromModel__threshold=0.1), LogisticRegression__C=0.1, LogisticRegression__dual=False, LogisticRegression__penalty=l2)</th>\n",
       "      <td>2</td>\n",
       "      <td>INVALID</td>\n",
       "      <td>-inf</td>\n",
       "      <td>12</td>\n",
       "      <td>2</td>\n",
       "      <td>(LogisticRegression(StandardScaler(CombineDFs(...</td>\n",
       "    </tr>\n",
       "  </tbody>\n",
       "</table>\n",
       "</div>"
      ],
      "text/plain": [
       "                                                   crossover_count generation  \\\n",
       "GradientBoostingClassifier(SelectFromModel(inpu...               0    INVALID   \n",
       "LinearSVC(SelectFromModel(input_matrix, SelectF...               0    INVALID   \n",
       "LogisticRegression(OneHotEncoder(StandardScaler...               2    INVALID   \n",
       "LogisticRegression(SelectFromModel(input_matrix...               0          0   \n",
       "LogisticRegression(SelectFromModel(CombineDFs(i...               2    INVALID   \n",
       "\n",
       "                                                   internal_cv_score  \\\n",
       "GradientBoostingClassifier(SelectFromModel(inpu...              -inf   \n",
       "LinearSVC(SelectFromModel(input_matrix, SelectF...              -inf   \n",
       "LogisticRegression(OneHotEncoder(StandardScaler...              -inf   \n",
       "LogisticRegression(SelectFromModel(input_matrix...              -inf   \n",
       "LogisticRegression(SelectFromModel(CombineDFs(i...              -inf   \n",
       "\n",
       "                                                   mutation_count  \\\n",
       "GradientBoostingClassifier(SelectFromModel(inpu...             10   \n",
       "LinearSVC(SelectFromModel(input_matrix, SelectF...              3   \n",
       "LogisticRegression(OneHotEncoder(StandardScaler...             15   \n",
       "LogisticRegression(SelectFromModel(input_matrix...              0   \n",
       "LogisticRegression(SelectFromModel(CombineDFs(i...             12   \n",
       "\n",
       "                                                   operator_count  \\\n",
       "GradientBoostingClassifier(SelectFromModel(inpu...              2   \n",
       "LinearSVC(SelectFromModel(input_matrix, SelectF...              2   \n",
       "LogisticRegression(OneHotEncoder(StandardScaler...              5   \n",
       "LogisticRegression(SelectFromModel(input_matrix...              2   \n",
       "LogisticRegression(SelectFromModel(CombineDFs(i...              2   \n",
       "\n",
       "                                                                                          predecessor  \n",
       "GradientBoostingClassifier(SelectFromModel(inpu...  (GradientBoostingClassifier(input_matrix, Grad...  \n",
       "LinearSVC(SelectFromModel(input_matrix, SelectF...  (LinearSVC(input_matrix, LinearSVC__C=15.0, Li...  \n",
       "LogisticRegression(OneHotEncoder(StandardScaler...  (LogisticRegression(StandardScaler(CombineDFs(...  \n",
       "LogisticRegression(SelectFromModel(input_matrix...                                            (ROOT,)  \n",
       "LogisticRegression(SelectFromModel(CombineDFs(i...  (LogisticRegression(StandardScaler(CombineDFs(...  "
      ]
     },
     "execution_count": 32,
     "metadata": {},
     "output_type": "execute_result"
    }
   ],
   "source": [
    "results_tpot.sort_values('internal_cv_score').head()"
   ]
  },
  {
   "cell_type": "code",
   "execution_count": 31,
   "metadata": {},
   "outputs": [
    {
     "data": {
      "text/plain": [
       "INVALID    9410\n",
       "0            94\n",
       "Name: generation, dtype: int64"
      ]
     },
     "execution_count": 31,
     "metadata": {},
     "output_type": "execute_result"
    }
   ],
   "source": [
    "results_tpot.generation.value_counts()"
   ]
  },
  {
   "cell_type": "markdown",
   "metadata": {},
   "source": [
    "#### Time Stopper for TPOT"
   ]
  },
  {
   "cell_type": "markdown",
   "metadata": {},
   "source": [
    "Stop after 1 min"
   ]
  },
  {
   "cell_type": "code",
   "execution_count": 7,
   "metadata": {},
   "outputs": [],
   "source": [
    "tpot = TPOTClassifier(random_state=seed, \n",
    "                     n_jobs=-1, \n",
    "                     max_time_mins = 1)"
   ]
  },
  {
   "cell_type": "code",
   "execution_count": 8,
   "metadata": {
    "scrolled": false
   },
   "outputs": [
    {
     "name": "stdout",
     "output_type": "stream",
     "text": [
      "Elapsed (s):  62\n",
      "Accuracy:     0.982\n"
     ]
    }
   ],
   "source": [
    "run = 'tpot (60)'\n",
    "\n",
    "start_time = timeit.default_timer()\n",
    "tpot.fit(x_trn, y_trn)\n",
    "elapsed = round(timeit.default_timer() - start_time)\n",
    "accuracy = tpot.score(x_val, y_val).round(3)\n",
    "\n",
    "add_results(run, elapsed, accuracy)\n",
    "\n",
    "print('Elapsed (s): ', elapsed)\n",
    "print('Accuracy:    ', accuracy)"
   ]
  },
  {
   "cell_type": "markdown",
   "metadata": {},
   "source": [
    "Stop after 6 mins"
   ]
  },
  {
   "cell_type": "code",
   "execution_count": 9,
   "metadata": {},
   "outputs": [],
   "source": [
    "tpot = TPOTClassifier(random_state=seed, \n",
    "                     n_jobs=-1, \n",
    "                     max_time_mins = 6)"
   ]
  },
  {
   "cell_type": "code",
   "execution_count": 10,
   "metadata": {
    "scrolled": false
   },
   "outputs": [
    {
     "name": "stdout",
     "output_type": "stream",
     "text": [
      "Elapsed (s):  361\n",
      "Accuracy:     0.982\n"
     ]
    }
   ],
   "source": [
    "run = 'tpot (360)'\n",
    "\n",
    "start_time = timeit.default_timer()\n",
    "tpot.fit(x_trn, y_trn)\n",
    "elapsed = round(timeit.default_timer() - start_time)\n",
    "accuracy = tpot.score(x_val, y_val).round(3)\n",
    "\n",
    "add_results(run, elapsed, accuracy)\n",
    "\n",
    "print('Elapsed (s): ', elapsed)\n",
    "print('Accuracy:    ', accuracy)"
   ]
  },
  {
   "cell_type": "markdown",
   "metadata": {},
   "source": [
    "## H2O\n",
    "\n",
    "[H2O AUto ML](http://docs.h2o.ai/h2o/latest-stable/h2o-docs/automl.html)"
   ]
  },
  {
   "cell_type": "code",
   "execution_count": null,
   "metadata": {},
   "outputs": [],
   "source": [
    "import h2o\n",
    "from h2o.automl import H2OAutoML"
   ]
  },
  {
   "cell_type": "code",
   "execution_count": 86,
   "metadata": {},
   "outputs": [
    {
     "name": "stdout",
     "output_type": "stream",
     "text": [
      "Checking whether there is an H2O instance running at http://localhost:54321..... not found.\n",
      "Attempting to start a local H2O server...\n",
      "; OpenJDK 64-Bit Server VM (Zulu 8.20.0.5-win64) (build 25.121-b15, mixed mode)\n",
      "  Starting server from C:\\Users\\elauckner\\Anaconda3\\lib\\site-packages\\h2o\\backend\\bin\\h2o.jar\n",
      "  Ice root: C:\\Users\\ELAUCK~1\\AppData\\Local\\Temp\\tmp1ke1ptnq\n",
      "  JVM stdout: C:\\Users\\ELAUCK~1\\AppData\\Local\\Temp\\tmp1ke1ptnq\\h2o_elauckner_started_from_python.out\n",
      "  JVM stderr: C:\\Users\\ELAUCK~1\\AppData\\Local\\Temp\\tmp1ke1ptnq\\h2o_elauckner_started_from_python.err\n",
      "  Server is running at http://127.0.0.1:54321\n",
      "Connecting to H2O server at http://127.0.0.1:54321... successful.\n"
     ]
    },
    {
     "data": {
      "text/html": [
       "<div style=\"overflow:auto\"><table style=\"width:50%\"><tr><td>H2O cluster uptime:</td>\n",
       "<td>03 secs</td></tr>\n",
       "<tr><td>H2O cluster timezone:</td>\n",
       "<td>Europe/Berlin</td></tr>\n",
       "<tr><td>H2O data parsing timezone:</td>\n",
       "<td>UTC</td></tr>\n",
       "<tr><td>H2O cluster version:</td>\n",
       "<td>3.22.1.4</td></tr>\n",
       "<tr><td>H2O cluster version age:</td>\n",
       "<td>8 days </td></tr>\n",
       "<tr><td>H2O cluster name:</td>\n",
       "<td>H2O_from_python_elauckner_lnz3si</td></tr>\n",
       "<tr><td>H2O cluster total nodes:</td>\n",
       "<td>1</td></tr>\n",
       "<tr><td>H2O cluster free memory:</td>\n",
       "<td>1.762 Gb</td></tr>\n",
       "<tr><td>H2O cluster total cores:</td>\n",
       "<td>4</td></tr>\n",
       "<tr><td>H2O cluster allowed cores:</td>\n",
       "<td>3</td></tr>\n",
       "<tr><td>H2O cluster status:</td>\n",
       "<td>accepting new members, healthy</td></tr>\n",
       "<tr><td>H2O connection url:</td>\n",
       "<td>http://127.0.0.1:54321</td></tr>\n",
       "<tr><td>H2O connection proxy:</td>\n",
       "<td>None</td></tr>\n",
       "<tr><td>H2O internal security:</td>\n",
       "<td>False</td></tr>\n",
       "<tr><td>H2O API Extensions:</td>\n",
       "<td>Amazon S3, Algos, AutoML, Core V3, Core V4</td></tr>\n",
       "<tr><td>Python version:</td>\n",
       "<td>3.6.5 final</td></tr></table></div>"
      ],
      "text/plain": [
       "--------------------------  ------------------------------------------\n",
       "H2O cluster uptime:         03 secs\n",
       "H2O cluster timezone:       Europe/Berlin\n",
       "H2O data parsing timezone:  UTC\n",
       "H2O cluster version:        3.22.1.4\n",
       "H2O cluster version age:    8 days\n",
       "H2O cluster name:           H2O_from_python_elauckner_lnz3si\n",
       "H2O cluster total nodes:    1\n",
       "H2O cluster free memory:    1.762 Gb\n",
       "H2O cluster total cores:    4\n",
       "H2O cluster allowed cores:  3\n",
       "H2O cluster status:         accepting new members, healthy\n",
       "H2O connection url:         http://127.0.0.1:54321\n",
       "H2O connection proxy:\n",
       "H2O internal security:      False\n",
       "H2O API Extensions:         Amazon S3, Algos, AutoML, Core V3, Core V4\n",
       "Python version:             3.6.5 final\n",
       "--------------------------  ------------------------------------------"
      ]
     },
     "metadata": {},
     "output_type": "display_data"
    }
   ],
   "source": [
    "h2o.init(nthreads = cores)"
   ]
  },
  {
   "cell_type": "markdown",
   "metadata": {},
   "source": [
    "H2O Input format"
   ]
  },
  {
   "cell_type": "code",
   "execution_count": 89,
   "metadata": {
    "scrolled": false
   },
   "outputs": [
    {
     "name": "stdout",
     "output_type": "stream",
     "text": [
      "Parse progress: |█████████████████████████████████████████████████████████| 100%\n",
      "Parse progress: |█████████████████████████████████████████████████████████| 100%\n"
     ]
    }
   ],
   "source": [
    "x_cols = list(feature_names)\n",
    "y_col = 'y'\n",
    "\n",
    "train = pd.DataFrame(x_trn, columns = x_cols)\n",
    "train[y_col] = y_trn\n",
    "train = h2o.H2OFrame(train)\n",
    "train[y_col] = train[y_col].asfactor()\n",
    "\n",
    "test = pd.DataFrame(x_val, columns = x_cols)\n",
    "test[y_col] = y_val\n",
    "test = h2o.H2OFrame(test)\n",
    "test[y_col] = test[y_col].asfactor()"
   ]
  },
  {
   "cell_type": "code",
   "execution_count": 117,
   "metadata": {},
   "outputs": [
    {
     "name": "stdout",
     "output_type": "stream",
     "text": [
      "AutoML progress: |████████████████████████████████████████████████████████| 100%\n",
      "glm prediction progress: |████████████████████████████████████████████████| 100%\n",
      "Elapsed (s):  65\n",
      "Accuracy:     0.982\n"
     ]
    }
   ],
   "source": [
    "aml = H2OAutoML(max_runtime_secs=60, seed=seed)\n",
    "\n",
    "run = 'h2o (60)'\n",
    "\n",
    "start_time = timeit.default_timer()\n",
    "aml.train(x=x_cols, y=y_col, training_frame=train)\n",
    "elapsed = round(timeit.default_timer() - start_time)\n",
    "\n",
    "y_pred = h2o.as_list(aml.predict(test)['predict']).predict.values\n",
    "accuracy = accuracy_score(y_val,y_pred).round(3)\n",
    "\n",
    "add_results(run, elapsed, accuracy)\n",
    "\n",
    "print('Elapsed (s): ', elapsed)\n",
    "print('Accuracy:    ', accuracy)"
   ]
  },
  {
   "cell_type": "code",
   "execution_count": 118,
   "metadata": {},
   "outputs": [
    {
     "name": "stdout",
     "output_type": "stream",
     "text": [
      "AutoML progress: |████████████████████████████████████████████████████████| 100%\n",
      "deeplearning prediction progress: |███████████████████████████████████████| 100%\n",
      "Elapsed (s):  313\n",
      "Accuracy:     0.991\n"
     ]
    }
   ],
   "source": [
    "aml = H2OAutoML(max_runtime_secs=350, seed=seed)\n",
    "\n",
    "run = 'h2o (350)'\n",
    "\n",
    "start_time = timeit.default_timer()\n",
    "aml.train(x=x_cols, y=y_col, training_frame=train)\n",
    "elapsed = round(timeit.default_timer() - start_time)\n",
    "\n",
    "y_pred = h2o.as_list(aml.predict(test)['predict']).predict.values\n",
    "accuracy = accuracy_score(y_val,y_pred).round(3)\n",
    "\n",
    "add_results(run, elapsed, accuracy)\n",
    "\n",
    "print('Elapsed (s): ', elapsed)\n",
    "print('Accuracy:    ', accuracy)"
   ]
  },
  {
   "cell_type": "code",
   "execution_count": 124,
   "metadata": {
    "scrolled": true
   },
   "outputs": [
    {
     "name": "stdout",
     "output_type": "stream",
     "text": [
      "Model Details\n",
      "=============\n",
      "H2ODeepLearningEstimator :  Deep Learning\n",
      "Model Key:  DeepLearning_grid_1_AutoML_20190224_175857_model_2\n",
      "\n",
      "\n",
      "ModelMetricsBinomial: deeplearning\n",
      "** Reported on train data. **\n",
      "\n",
      "MSE: 0.013241155023315935\n",
      "RMSE: 0.11507021779468367\n",
      "LogLoss: 0.06074781300842693\n",
      "Mean Per-Class Error: 0.00692041522491349\n",
      "AUC: 0.9997290198857715\n",
      "pr_auc: 0.31472416370612905\n",
      "Gini: 0.9994580397715429\n",
      "Confusion Matrix (Act/Pred) for max f1 @ threshold = 0.7918756239478332: \n"
     ]
    },
    {
     "data": {
      "text/html": [
       "<div style=\"overflow:auto\"><table style=\"width:50%\"><tr><td><b></b></td>\n",
       "<td><b>0</b></td>\n",
       "<td><b>1</b></td>\n",
       "<td><b>Error</b></td>\n",
       "<td><b>Rate</b></td></tr>\n",
       "<tr><td>0</td>\n",
       "<td>162.0</td>\n",
       "<td>4.0</td>\n",
       "<td>0.0241</td>\n",
       "<td> (4.0/166.0)</td></tr>\n",
       "<tr><td>1</td>\n",
       "<td>0.0</td>\n",
       "<td>289.0</td>\n",
       "<td>0.0</td>\n",
       "<td> (0.0/289.0)</td></tr>\n",
       "<tr><td>Total</td>\n",
       "<td>162.0</td>\n",
       "<td>293.0</td>\n",
       "<td>0.0088</td>\n",
       "<td> (4.0/455.0)</td></tr></table></div>"
      ],
      "text/plain": [
       "       0    1    Error    Rate\n",
       "-----  ---  ---  -------  -----------\n",
       "0      162  4    0.0241   (4.0/166.0)\n",
       "1      0    289  0        (0.0/289.0)\n",
       "Total  162  293  0.0088   (4.0/455.0)"
      ]
     },
     "metadata": {},
     "output_type": "display_data"
    },
    {
     "name": "stdout",
     "output_type": "stream",
     "text": [
      "Maximum Metrics: Maximum metrics at their respective thresholds\n",
      "\n"
     ]
    },
    {
     "data": {
      "text/html": [
       "<div style=\"overflow:auto\"><table style=\"width:50%\"><tr><td><b>metric</b></td>\n",
       "<td><b>threshold</b></td>\n",
       "<td><b>value</b></td>\n",
       "<td><b>idx</b></td></tr>\n",
       "<tr><td>max f1</td>\n",
       "<td>0.7918756</td>\n",
       "<td>0.9931271</td>\n",
       "<td>72.0</td></tr>\n",
       "<tr><td>max f2</td>\n",
       "<td>0.7918756</td>\n",
       "<td>0.9972395</td>\n",
       "<td>72.0</td></tr>\n",
       "<tr><td>max f0point5</td>\n",
       "<td>0.9975061</td>\n",
       "<td>0.9972008</td>\n",
       "<td>64.0</td></tr>\n",
       "<tr><td>max accuracy</td>\n",
       "<td>0.9975061</td>\n",
       "<td>0.9912088</td>\n",
       "<td>64.0</td></tr>\n",
       "<tr><td>max precision</td>\n",
       "<td>1.0000000</td>\n",
       "<td>1.0</td>\n",
       "<td>0.0</td></tr>\n",
       "<tr><td>max recall</td>\n",
       "<td>0.7918756</td>\n",
       "<td>1.0</td>\n",
       "<td>72.0</td></tr>\n",
       "<tr><td>max specificity</td>\n",
       "<td>1.0000000</td>\n",
       "<td>1.0</td>\n",
       "<td>0.0</td></tr>\n",
       "<tr><td>max absolute_mcc</td>\n",
       "<td>0.9975061</td>\n",
       "<td>0.9813029</td>\n",
       "<td>64.0</td></tr>\n",
       "<tr><td>max min_per_class_accuracy</td>\n",
       "<td>0.9960478</td>\n",
       "<td>0.9879518</td>\n",
       "<td>67.0</td></tr>\n",
       "<tr><td>max mean_per_class_accuracy</td>\n",
       "<td>0.9975061</td>\n",
       "<td>0.9930796</td>\n",
       "<td>64.0</td></tr></table></div>"
      ],
      "text/plain": [
       "metric                       threshold    value     idx\n",
       "---------------------------  -----------  --------  -----\n",
       "max f1                       0.791876     0.993127  72\n",
       "max f2                       0.791876     0.997239  72\n",
       "max f0point5                 0.997506     0.997201  64\n",
       "max accuracy                 0.997506     0.991209  64\n",
       "max precision                1            1         0\n",
       "max recall                   0.791876     1         72\n",
       "max specificity              1            1         0\n",
       "max absolute_mcc             0.997506     0.981303  64\n",
       "max min_per_class_accuracy   0.996048     0.987952  67\n",
       "max mean_per_class_accuracy  0.997506     0.99308   64"
      ]
     },
     "metadata": {},
     "output_type": "display_data"
    },
    {
     "name": "stdout",
     "output_type": "stream",
     "text": [
      "Gains/Lift Table: Avg response rate: 63,52 %, avg score: 65,20 %\n",
      "\n"
     ]
    },
    {
     "data": {
      "text/html": [
       "<div style=\"overflow:auto\"><table style=\"width:50%\"><tr><td><b></b></td>\n",
       "<td><b>group</b></td>\n",
       "<td><b>cumulative_data_fraction</b></td>\n",
       "<td><b>lower_threshold</b></td>\n",
       "<td><b>lift</b></td>\n",
       "<td><b>cumulative_lift</b></td>\n",
       "<td><b>response_rate</b></td>\n",
       "<td><b>score</b></td>\n",
       "<td><b>cumulative_response_rate</b></td>\n",
       "<td><b>cumulative_score</b></td>\n",
       "<td><b>capture_rate</b></td>\n",
       "<td><b>cumulative_capture_rate</b></td>\n",
       "<td><b>gain</b></td>\n",
       "<td><b>cumulative_gain</b></td></tr>\n",
       "<tr><td></td>\n",
       "<td>1</td>\n",
       "<td>0.0307692</td>\n",
       "<td>1.0</td>\n",
       "<td>1.5743945</td>\n",
       "<td>1.5743945</td>\n",
       "<td>1.0</td>\n",
       "<td>1.0</td>\n",
       "<td>1.0</td>\n",
       "<td>1.0</td>\n",
       "<td>0.0484429</td>\n",
       "<td>0.0484429</td>\n",
       "<td>57.4394464</td>\n",
       "<td>57.4394464</td></tr>\n",
       "<tr><td></td>\n",
       "<td>2</td>\n",
       "<td>0.0307692</td>\n",
       "<td>1.0000000</td>\n",
       "<td>0.0</td>\n",
       "<td>1.5743945</td>\n",
       "<td>0.0</td>\n",
       "<td>0.0</td>\n",
       "<td>1.0</td>\n",
       "<td>1.0</td>\n",
       "<td>0.0</td>\n",
       "<td>0.0484429</td>\n",
       "<td>-100.0</td>\n",
       "<td>57.4394464</td></tr>\n",
       "<tr><td></td>\n",
       "<td>3</td>\n",
       "<td>0.0417582</td>\n",
       "<td>1.0000000</td>\n",
       "<td>1.5743945</td>\n",
       "<td>1.5743945</td>\n",
       "<td>1.0</td>\n",
       "<td>1.0000000</td>\n",
       "<td>1.0</td>\n",
       "<td>1.0</td>\n",
       "<td>0.0173010</td>\n",
       "<td>0.0657439</td>\n",
       "<td>57.4394464</td>\n",
       "<td>57.4394464</td></tr>\n",
       "<tr><td></td>\n",
       "<td>4</td>\n",
       "<td>0.0505495</td>\n",
       "<td>1.0000000</td>\n",
       "<td>1.5743945</td>\n",
       "<td>1.5743945</td>\n",
       "<td>1.0</td>\n",
       "<td>1.0000000</td>\n",
       "<td>1.0</td>\n",
       "<td>1.0000000</td>\n",
       "<td>0.0138408</td>\n",
       "<td>0.0795848</td>\n",
       "<td>57.4394464</td>\n",
       "<td>57.4394464</td></tr>\n",
       "<tr><td></td>\n",
       "<td>5</td>\n",
       "<td>0.1010989</td>\n",
       "<td>1.0000000</td>\n",
       "<td>1.5743945</td>\n",
       "<td>1.5743945</td>\n",
       "<td>1.0</td>\n",
       "<td>1.0000000</td>\n",
       "<td>1.0</td>\n",
       "<td>1.0000000</td>\n",
       "<td>0.0795848</td>\n",
       "<td>0.1591696</td>\n",
       "<td>57.4394464</td>\n",
       "<td>57.4394464</td></tr>\n",
       "<tr><td></td>\n",
       "<td>6</td>\n",
       "<td>0.1516484</td>\n",
       "<td>1.0000000</td>\n",
       "<td>1.5743945</td>\n",
       "<td>1.5743945</td>\n",
       "<td>1.0</td>\n",
       "<td>1.0000000</td>\n",
       "<td>1.0</td>\n",
       "<td>1.0000000</td>\n",
       "<td>0.0795848</td>\n",
       "<td>0.2387543</td>\n",
       "<td>57.4394464</td>\n",
       "<td>57.4394464</td></tr>\n",
       "<tr><td></td>\n",
       "<td>7</td>\n",
       "<td>0.2</td>\n",
       "<td>1.0000000</td>\n",
       "<td>1.5743945</td>\n",
       "<td>1.5743945</td>\n",
       "<td>1.0</td>\n",
       "<td>1.0000000</td>\n",
       "<td>1.0</td>\n",
       "<td>1.0000000</td>\n",
       "<td>0.0761246</td>\n",
       "<td>0.3148789</td>\n",
       "<td>57.4394464</td>\n",
       "<td>57.4394464</td></tr>\n",
       "<tr><td></td>\n",
       "<td>8</td>\n",
       "<td>0.3010989</td>\n",
       "<td>1.0000000</td>\n",
       "<td>1.5743945</td>\n",
       "<td>1.5743945</td>\n",
       "<td>1.0</td>\n",
       "<td>1.0000000</td>\n",
       "<td>1.0</td>\n",
       "<td>1.0000000</td>\n",
       "<td>0.1591696</td>\n",
       "<td>0.4740484</td>\n",
       "<td>57.4394464</td>\n",
       "<td>57.4394464</td></tr>\n",
       "<tr><td></td>\n",
       "<td>9</td>\n",
       "<td>0.4</td>\n",
       "<td>1.0000000</td>\n",
       "<td>1.5743945</td>\n",
       "<td>1.5743945</td>\n",
       "<td>1.0</td>\n",
       "<td>1.0000000</td>\n",
       "<td>1.0</td>\n",
       "<td>1.0000000</td>\n",
       "<td>0.1557093</td>\n",
       "<td>0.6297578</td>\n",
       "<td>57.4394464</td>\n",
       "<td>57.4394464</td></tr>\n",
       "<tr><td></td>\n",
       "<td>10</td>\n",
       "<td>0.5010989</td>\n",
       "<td>0.9999995</td>\n",
       "<td>1.5743945</td>\n",
       "<td>1.5743945</td>\n",
       "<td>1.0</td>\n",
       "<td>0.9999999</td>\n",
       "<td>1.0</td>\n",
       "<td>1.0000000</td>\n",
       "<td>0.1591696</td>\n",
       "<td>0.7889273</td>\n",
       "<td>57.4394464</td>\n",
       "<td>57.4394464</td></tr>\n",
       "<tr><td></td>\n",
       "<td>11</td>\n",
       "<td>0.6</td>\n",
       "<td>0.9997202</td>\n",
       "<td>1.5743945</td>\n",
       "<td>1.5743945</td>\n",
       "<td>1.0</td>\n",
       "<td>0.9999526</td>\n",
       "<td>1.0</td>\n",
       "<td>0.9999922</td>\n",
       "<td>0.1557093</td>\n",
       "<td>0.9446367</td>\n",
       "<td>57.4394464</td>\n",
       "<td>57.4394464</td></tr>\n",
       "<tr><td></td>\n",
       "<td>12</td>\n",
       "<td>0.6989011</td>\n",
       "<td>0.0002709</td>\n",
       "<td>0.5597847</td>\n",
       "<td>1.4308176</td>\n",
       "<td>0.3555556</td>\n",
       "<td>0.5262759</td>\n",
       "<td>0.9088050</td>\n",
       "<td>0.9329569</td>\n",
       "<td>0.0553633</td>\n",
       "<td>1.0</td>\n",
       "<td>-44.0215302</td>\n",
       "<td>43.0817610</td></tr>\n",
       "<tr><td></td>\n",
       "<td>13</td>\n",
       "<td>0.8</td>\n",
       "<td>0.0000000</td>\n",
       "<td>0.0</td>\n",
       "<td>1.25</td>\n",
       "<td>0.0</td>\n",
       "<td>0.0000269</td>\n",
       "<td>0.7939560</td>\n",
       "<td>0.8150591</td>\n",
       "<td>0.0</td>\n",
       "<td>1.0</td>\n",
       "<td>-100.0</td>\n",
       "<td>25.0</td></tr>\n",
       "<tr><td></td>\n",
       "<td>14</td>\n",
       "<td>0.8989011</td>\n",
       "<td>0.0000000</td>\n",
       "<td>0.0</td>\n",
       "<td>1.1124694</td>\n",
       "<td>0.0</td>\n",
       "<td>0.0000000</td>\n",
       "<td>0.7066015</td>\n",
       "<td>0.7253827</td>\n",
       "<td>0.0</td>\n",
       "<td>1.0</td>\n",
       "<td>-100.0</td>\n",
       "<td>11.2469438</td></tr>\n",
       "<tr><td></td>\n",
       "<td>15</td>\n",
       "<td>1.0</td>\n",
       "<td>0.0000000</td>\n",
       "<td>0.0</td>\n",
       "<td>1.0</td>\n",
       "<td>0.0</td>\n",
       "<td>0.0000000</td>\n",
       "<td>0.6351648</td>\n",
       "<td>0.6520473</td>\n",
       "<td>0.0</td>\n",
       "<td>1.0</td>\n",
       "<td>-100.0</td>\n",
       "<td>0.0</td></tr></table></div>"
      ],
      "text/plain": [
       "    group    cumulative_data_fraction    lower_threshold    lift      cumulative_lift    response_rate    score        cumulative_response_rate    cumulative_score    capture_rate    cumulative_capture_rate    gain      cumulative_gain\n",
       "--  -------  --------------------------  -----------------  --------  -----------------  ---------------  -----------  --------------------------  ------------------  --------------  -------------------------  --------  -----------------\n",
       "    1        0.0307692                   1                  1.57439   1.57439            1                1            1                           1                   0.0484429       0.0484429                  57.4394   57.4394\n",
       "    2        0.0307692                   1                  0         1.57439            0                0            1                           1                   0               0.0484429                  -100      57.4394\n",
       "    3        0.0417582                   1                  1.57439   1.57439            1                1            1                           1                   0.017301        0.0657439                  57.4394   57.4394\n",
       "    4        0.0505495                   1                  1.57439   1.57439            1                1            1                           1                   0.0138408       0.0795848                  57.4394   57.4394\n",
       "    5        0.101099                    1                  1.57439   1.57439            1                1            1                           1                   0.0795848       0.15917                    57.4394   57.4394\n",
       "    6        0.151648                    1                  1.57439   1.57439            1                1            1                           1                   0.0795848       0.238754                   57.4394   57.4394\n",
       "    7        0.2                         1                  1.57439   1.57439            1                1            1                           1                   0.0761246       0.314879                   57.4394   57.4394\n",
       "    8        0.301099                    1                  1.57439   1.57439            1                1            1                           1                   0.15917         0.474048                   57.4394   57.4394\n",
       "    9        0.4                         1                  1.57439   1.57439            1                1            1                           1                   0.155709        0.629758                   57.4394   57.4394\n",
       "    10       0.501099                    1                  1.57439   1.57439            1                1            1                           1                   0.15917         0.788927                   57.4394   57.4394\n",
       "    11       0.6                         0.99972            1.57439   1.57439            1                0.999953     1                           0.999992            0.155709        0.944637                   57.4394   57.4394\n",
       "    12       0.698901                    0.000270851        0.559785  1.43082            0.355556         0.526276     0.908805                    0.932957            0.0553633       1                          -44.0215  43.0818\n",
       "    13       0.8                         1.31297e-09        0         1.25               0                2.68817e-05  0.793956                    0.815059            0               1                          -100      25\n",
       "    14       0.898901                    6.69797e-17        0         1.11247            0                7.46695e-11  0.706601                    0.725383            0               1                          -100      11.2469\n",
       "    15       1                           1.50353e-56        0         1                  0                5.07026e-18  0.635165                    0.652047            0               1                          -100      0"
      ]
     },
     "metadata": {},
     "output_type": "display_data"
    },
    {
     "name": "stdout",
     "output_type": "stream",
     "text": [
      "\n",
      "\n",
      "ModelMetricsBinomial: deeplearning\n",
      "** Reported on cross-validation data. **\n",
      "\n",
      "MSE: 0.014336557656496418\n",
      "RMSE: 0.1197353651036168\n",
      "LogLoss: 0.1297225298026461\n",
      "Mean Per-Class Error: 0.015508400383541066\n",
      "AUC: 0.9964981031392004\n",
      "pr_auc: 0.2539076744473231\n",
      "Gini: 0.9929962062784008\n",
      "Confusion Matrix (Act/Pred) for max f1 @ threshold = 0.86598063971928: \n"
     ]
    },
    {
     "data": {
      "text/html": [
       "<div style=\"overflow:auto\"><table style=\"width:50%\"><tr><td><b></b></td>\n",
       "<td><b>0</b></td>\n",
       "<td><b>1</b></td>\n",
       "<td><b>Error</b></td>\n",
       "<td><b>Rate</b></td></tr>\n",
       "<tr><td>0</td>\n",
       "<td>162.0</td>\n",
       "<td>4.0</td>\n",
       "<td>0.0241</td>\n",
       "<td> (4.0/166.0)</td></tr>\n",
       "<tr><td>1</td>\n",
       "<td>2.0</td>\n",
       "<td>287.0</td>\n",
       "<td>0.0069</td>\n",
       "<td> (2.0/289.0)</td></tr>\n",
       "<tr><td>Total</td>\n",
       "<td>164.0</td>\n",
       "<td>291.0</td>\n",
       "<td>0.0132</td>\n",
       "<td> (6.0/455.0)</td></tr></table></div>"
      ],
      "text/plain": [
       "       0    1    Error    Rate\n",
       "-----  ---  ---  -------  -----------\n",
       "0      162  4    0.0241   (4.0/166.0)\n",
       "1      2    287  0.0069   (2.0/289.0)\n",
       "Total  164  291  0.0132   (6.0/455.0)"
      ]
     },
     "metadata": {},
     "output_type": "display_data"
    },
    {
     "name": "stdout",
     "output_type": "stream",
     "text": [
      "Maximum Metrics: Maximum metrics at their respective thresholds\n",
      "\n"
     ]
    },
    {
     "data": {
      "text/html": [
       "<div style=\"overflow:auto\"><table style=\"width:50%\"><tr><td><b>metric</b></td>\n",
       "<td><b>threshold</b></td>\n",
       "<td><b>value</b></td>\n",
       "<td><b>idx</b></td></tr>\n",
       "<tr><td>max f1</td>\n",
       "<td>0.8659806</td>\n",
       "<td>0.9896552</td>\n",
       "<td>52.0</td></tr>\n",
       "<tr><td>max f2</td>\n",
       "<td>0.3074667</td>\n",
       "<td>0.9944942</td>\n",
       "<td>58.0</td></tr>\n",
       "<tr><td>max f0point5</td>\n",
       "<td>0.8659806</td>\n",
       "<td>0.9876118</td>\n",
       "<td>52.0</td></tr>\n",
       "<tr><td>max accuracy</td>\n",
       "<td>0.8659806</td>\n",
       "<td>0.9868132</td>\n",
       "<td>52.0</td></tr>\n",
       "<tr><td>max precision</td>\n",
       "<td>1.0000000</td>\n",
       "<td>1.0</td>\n",
       "<td>0.0</td></tr>\n",
       "<tr><td>max recall</td>\n",
       "<td>0.3074667</td>\n",
       "<td>1.0</td>\n",
       "<td>58.0</td></tr>\n",
       "<tr><td>max specificity</td>\n",
       "<td>1.0000000</td>\n",
       "<td>1.0</td>\n",
       "<td>0.0</td></tr>\n",
       "<tr><td>max absolute_mcc</td>\n",
       "<td>0.8659806</td>\n",
       "<td>0.9715179</td>\n",
       "<td>52.0</td></tr>\n",
       "<tr><td>max min_per_class_accuracy</td>\n",
       "<td>0.9847136</td>\n",
       "<td>0.9759036</td>\n",
       "<td>48.0</td></tr>\n",
       "<tr><td>max mean_per_class_accuracy</td>\n",
       "<td>0.8659806</td>\n",
       "<td>0.9844916</td>\n",
       "<td>52.0</td></tr></table></div>"
      ],
      "text/plain": [
       "metric                       threshold    value     idx\n",
       "---------------------------  -----------  --------  -----\n",
       "max f1                       0.865981     0.989655  52\n",
       "max f2                       0.307467     0.994494  58\n",
       "max f0point5                 0.865981     0.987612  52\n",
       "max accuracy                 0.865981     0.986813  52\n",
       "max precision                1            1         0\n",
       "max recall                   0.307467     1         58\n",
       "max specificity              1            1         0\n",
       "max absolute_mcc             0.865981     0.971518  52\n",
       "max min_per_class_accuracy   0.984714     0.975904  48\n",
       "max mean_per_class_accuracy  0.865981     0.984492  52"
      ]
     },
     "metadata": {},
     "output_type": "display_data"
    },
    {
     "name": "stdout",
     "output_type": "stream",
     "text": [
      "Gains/Lift Table: Avg response rate: 63,52 %, avg score: 64,63 %\n",
      "\n"
     ]
    },
    {
     "data": {
      "text/html": [
       "<div style=\"overflow:auto\"><table style=\"width:50%\"><tr><td><b></b></td>\n",
       "<td><b>group</b></td>\n",
       "<td><b>cumulative_data_fraction</b></td>\n",
       "<td><b>lower_threshold</b></td>\n",
       "<td><b>lift</b></td>\n",
       "<td><b>cumulative_lift</b></td>\n",
       "<td><b>response_rate</b></td>\n",
       "<td><b>score</b></td>\n",
       "<td><b>cumulative_response_rate</b></td>\n",
       "<td><b>cumulative_score</b></td>\n",
       "<td><b>capture_rate</b></td>\n",
       "<td><b>cumulative_capture_rate</b></td>\n",
       "<td><b>gain</b></td>\n",
       "<td><b>cumulative_gain</b></td></tr>\n",
       "<tr><td></td>\n",
       "<td>1</td>\n",
       "<td>0.1340659</td>\n",
       "<td>1.0</td>\n",
       "<td>1.5743945</td>\n",
       "<td>1.5743945</td>\n",
       "<td>1.0</td>\n",
       "<td>1.0</td>\n",
       "<td>1.0</td>\n",
       "<td>1.0</td>\n",
       "<td>0.2110727</td>\n",
       "<td>0.2110727</td>\n",
       "<td>57.4394464</td>\n",
       "<td>57.4394464</td></tr>\n",
       "<tr><td></td>\n",
       "<td>2</td>\n",
       "<td>0.1538462</td>\n",
       "<td>1.0000000</td>\n",
       "<td>1.5743945</td>\n",
       "<td>1.5743945</td>\n",
       "<td>1.0</td>\n",
       "<td>1.0000000</td>\n",
       "<td>1.0</td>\n",
       "<td>1.0</td>\n",
       "<td>0.0311419</td>\n",
       "<td>0.2422145</td>\n",
       "<td>57.4394464</td>\n",
       "<td>57.4394464</td></tr>\n",
       "<tr><td></td>\n",
       "<td>3</td>\n",
       "<td>0.2065934</td>\n",
       "<td>1.0000000</td>\n",
       "<td>1.5743945</td>\n",
       "<td>1.5743945</td>\n",
       "<td>1.0</td>\n",
       "<td>1.0000000</td>\n",
       "<td>1.0</td>\n",
       "<td>1.0000000</td>\n",
       "<td>0.0830450</td>\n",
       "<td>0.3252595</td>\n",
       "<td>57.4394464</td>\n",
       "<td>57.4394464</td></tr>\n",
       "<tr><td></td>\n",
       "<td>4</td>\n",
       "<td>0.3010989</td>\n",
       "<td>1.0000000</td>\n",
       "<td>1.5743945</td>\n",
       "<td>1.5743945</td>\n",
       "<td>1.0</td>\n",
       "<td>1.0000000</td>\n",
       "<td>1.0</td>\n",
       "<td>1.0000000</td>\n",
       "<td>0.1487889</td>\n",
       "<td>0.4740484</td>\n",
       "<td>57.4394464</td>\n",
       "<td>57.4394464</td></tr>\n",
       "<tr><td></td>\n",
       "<td>5</td>\n",
       "<td>0.4</td>\n",
       "<td>1.0000000</td>\n",
       "<td>1.5743945</td>\n",
       "<td>1.5743945</td>\n",
       "<td>1.0</td>\n",
       "<td>1.0000000</td>\n",
       "<td>1.0</td>\n",
       "<td>1.0000000</td>\n",
       "<td>0.1557093</td>\n",
       "<td>0.6297578</td>\n",
       "<td>57.4394464</td>\n",
       "<td>57.4394464</td></tr>\n",
       "<tr><td></td>\n",
       "<td>6</td>\n",
       "<td>0.5010989</td>\n",
       "<td>0.9999999</td>\n",
       "<td>1.5743945</td>\n",
       "<td>1.5743945</td>\n",
       "<td>1.0</td>\n",
       "<td>1.0000000</td>\n",
       "<td>1.0</td>\n",
       "<td>1.0000000</td>\n",
       "<td>0.1591696</td>\n",
       "<td>0.7889273</td>\n",
       "<td>57.4394464</td>\n",
       "<td>57.4394464</td></tr>\n",
       "<tr><td></td>\n",
       "<td>7</td>\n",
       "<td>0.6</td>\n",
       "<td>0.9999272</td>\n",
       "<td>1.4344483</td>\n",
       "<td>1.5513264</td>\n",
       "<td>0.9111111</td>\n",
       "<td>0.9999932</td>\n",
       "<td>0.9853480</td>\n",
       "<td>0.9999989</td>\n",
       "<td>0.1418685</td>\n",
       "<td>0.9307958</td>\n",
       "<td>43.4448289</td>\n",
       "<td>55.1326413</td></tr>\n",
       "<tr><td></td>\n",
       "<td>8</td>\n",
       "<td>0.6989011</td>\n",
       "<td>0.0000004</td>\n",
       "<td>0.6997309</td>\n",
       "<td>1.4308176</td>\n",
       "<td>0.4444444</td>\n",
       "<td>0.4683944</td>\n",
       "<td>0.9088050</td>\n",
       "<td>0.9247718</td>\n",
       "<td>0.0692042</td>\n",
       "<td>1.0</td>\n",
       "<td>-30.0269127</td>\n",
       "<td>43.0817610</td></tr>\n",
       "<tr><td></td>\n",
       "<td>9</td>\n",
       "<td>0.8</td>\n",
       "<td>0.0000000</td>\n",
       "<td>0.0</td>\n",
       "<td>1.25</td>\n",
       "<td>0.0</td>\n",
       "<td>0.0000000</td>\n",
       "<td>0.7939560</td>\n",
       "<td>0.8079051</td>\n",
       "<td>0.0</td>\n",
       "<td>1.0</td>\n",
       "<td>-100.0</td>\n",
       "<td>25.0</td></tr>\n",
       "<tr><td></td>\n",
       "<td>10</td>\n",
       "<td>0.8989011</td>\n",
       "<td>0.0000000</td>\n",
       "<td>0.0</td>\n",
       "<td>1.1124694</td>\n",
       "<td>0.0</td>\n",
       "<td>0.0000000</td>\n",
       "<td>0.7066015</td>\n",
       "<td>0.7190157</td>\n",
       "<td>0.0</td>\n",
       "<td>1.0</td>\n",
       "<td>-100.0</td>\n",
       "<td>11.2469438</td></tr>\n",
       "<tr><td></td>\n",
       "<td>11</td>\n",
       "<td>1.0</td>\n",
       "<td>0.0000000</td>\n",
       "<td>0.0</td>\n",
       "<td>1.0</td>\n",
       "<td>0.0</td>\n",
       "<td>0.0000000</td>\n",
       "<td>0.6351648</td>\n",
       "<td>0.6463240</td>\n",
       "<td>0.0</td>\n",
       "<td>1.0</td>\n",
       "<td>-100.0</td>\n",
       "<td>0.0</td></tr></table></div>"
      ],
      "text/plain": [
       "    group    cumulative_data_fraction    lower_threshold    lift      cumulative_lift    response_rate    score        cumulative_response_rate    cumulative_score    capture_rate    cumulative_capture_rate    gain      cumulative_gain\n",
       "--  -------  --------------------------  -----------------  --------  -----------------  ---------------  -----------  --------------------------  ------------------  --------------  -------------------------  --------  -----------------\n",
       "    1        0.134066                    1                  1.57439   1.57439            1                1            1                           1                   0.211073        0.211073                   57.4394   57.4394\n",
       "    2        0.153846                    1                  1.57439   1.57439            1                1            1                           1                   0.0311419       0.242215                   57.4394   57.4394\n",
       "    3        0.206593                    1                  1.57439   1.57439            1                1            1                           1                   0.083045        0.32526                    57.4394   57.4394\n",
       "    4        0.301099                    1                  1.57439   1.57439            1                1            1                           1                   0.148789        0.474048                   57.4394   57.4394\n",
       "    5        0.4                         1                  1.57439   1.57439            1                1            1                           1                   0.155709        0.629758                   57.4394   57.4394\n",
       "    6        0.501099                    1                  1.57439   1.57439            1                1            1                           1                   0.15917         0.788927                   57.4394   57.4394\n",
       "    7        0.6                         0.999927           1.43445   1.55133            0.911111         0.999993     0.985348                    0.999999            0.141869        0.930796                   43.4448   55.1326\n",
       "    8        0.698901                    4.38265e-07        0.699731  1.43082            0.444444         0.468394     0.908805                    0.924772            0.0692042       1                          -30.0269  43.0818\n",
       "    9        0.8                         1.5643e-17         0         1.25               0                1.16856e-08  0.793956                    0.807905            0               1                          -100      25\n",
       "    10       0.898901                    3.60763e-30        0         1.11247            0                2.79447e-19  0.706601                    0.719016            0               1                          -100      11.2469\n",
       "    11       1                           7.22582e-104       0         1                  0                3.1019e-31   0.635165                    0.646324            0               1                          -100      0"
      ]
     },
     "metadata": {},
     "output_type": "display_data"
    },
    {
     "name": "stdout",
     "output_type": "stream",
     "text": [
      "\n",
      "Cross-Validation Metrics Summary: \n"
     ]
    },
    {
     "data": {
      "text/html": [
       "<div style=\"overflow:auto\"><table style=\"width:50%\"><tr><td><b></b></td>\n",
       "<td><b>mean</b></td>\n",
       "<td><b>sd</b></td>\n",
       "<td><b>cv_1_valid</b></td>\n",
       "<td><b>cv_2_valid</b></td>\n",
       "<td><b>cv_3_valid</b></td>\n",
       "<td><b>cv_4_valid</b></td>\n",
       "<td><b>cv_5_valid</b></td></tr>\n",
       "<tr><td>accuracy</td>\n",
       "<td>0.9758242</td>\n",
       "<td>0.0090618</td>\n",
       "<td>1.0</td>\n",
       "<td>0.9670330</td>\n",
       "<td>0.9670330</td>\n",
       "<td>0.9670330</td>\n",
       "<td>0.978022</td></tr>\n",
       "<tr><td>auc</td>\n",
       "<td>0.9909738</td>\n",
       "<td>0.0049237</td>\n",
       "<td>1.0</td>\n",
       "<td>0.9822361</td>\n",
       "<td>0.9905956</td>\n",
       "<td>0.9845201</td>\n",
       "<td>0.9975174</td></tr>\n",
       "<tr><td>err</td>\n",
       "<td>0.0241758</td>\n",
       "<td>0.0090618</td>\n",
       "<td>0.0</td>\n",
       "<td>0.0329670</td>\n",
       "<td>0.0329670</td>\n",
       "<td>0.0329670</td>\n",
       "<td>0.0219780</td></tr>\n",
       "<tr><td>err_count</td>\n",
       "<td>2.2</td>\n",
       "<td>0.8246211</td>\n",
       "<td>0.0</td>\n",
       "<td>3.0</td>\n",
       "<td>3.0</td>\n",
       "<td>3.0</td>\n",
       "<td>2.0</td></tr>\n",
       "<tr><td>f0point5</td>\n",
       "<td>0.9701644</td>\n",
       "<td>0.0109459</td>\n",
       "<td>1.0</td>\n",
       "<td>0.9602649</td>\n",
       "<td>0.9602649</td>\n",
       "<td>0.959596</td>\n",
       "<td>0.970696</td></tr>\n",
       "<tr><td>f1</td>\n",
       "<td>0.9810840</td>\n",
       "<td>0.0069457</td>\n",
       "<td>1.0</td>\n",
       "<td>0.9747899</td>\n",
       "<td>0.9747899</td>\n",
       "<td>0.974359</td>\n",
       "<td>0.9814815</td></tr>\n",
       "<tr><td>f2</td>\n",
       "<td>0.992323</td>\n",
       "<td>0.0028214</td>\n",
       "<td>1.0</td>\n",
       "<td>0.9897611</td>\n",
       "<td>0.9897611</td>\n",
       "<td>0.9895833</td>\n",
       "<td>0.9925094</td></tr>\n",
       "<tr><td>lift_top_group</td>\n",
       "<td>1.5791695</td>\n",
       "<td>0.0613605</td>\n",
       "<td>1.4444444</td>\n",
       "<td>1.5689656</td>\n",
       "<td>1.5689656</td>\n",
       "<td>1.5964912</td>\n",
       "<td>1.7169812</td></tr>\n",
       "<tr><td>logloss</td>\n",
       "<td>0.2476795</td>\n",
       "<td>0.1030896</td>\n",
       "<td>0.0001849</td>\n",
       "<td>0.3750733</td>\n",
       "<td>0.3342585</td>\n",
       "<td>0.366259</td>\n",
       "<td>0.1626217</td></tr>\n",
       "<tr><td>max_per_class_error</td>\n",
       "<td>0.0645370</td>\n",
       "<td>0.0250187</td>\n",
       "<td>0.0</td>\n",
       "<td>0.0909091</td>\n",
       "<td>0.0909091</td>\n",
       "<td>0.0882353</td>\n",
       "<td>0.0526316</td></tr>\n",
       "<tr><td>mcc</td>\n",
       "<td>0.9491193</td>\n",
       "<td>0.0192912</td>\n",
       "<td>1.0</td>\n",
       "<td>0.9297212</td>\n",
       "<td>0.9297212</td>\n",
       "<td>0.930686</td>\n",
       "<td>0.9554678</td></tr>\n",
       "<tr><td>mean_per_class_accuracy</td>\n",
       "<td>0.9677315</td>\n",
       "<td>0.0125093</td>\n",
       "<td>1.0</td>\n",
       "<td>0.9545454</td>\n",
       "<td>0.9545454</td>\n",
       "<td>0.9558824</td>\n",
       "<td>0.9736842</td></tr>\n",
       "<tr><td>mean_per_class_error</td>\n",
       "<td>0.0322685</td>\n",
       "<td>0.0125093</td>\n",
       "<td>0.0</td>\n",
       "<td>0.0454545</td>\n",
       "<td>0.0454545</td>\n",
       "<td>0.0441177</td>\n",
       "<td>0.0263158</td></tr>\n",
       "<tr><td>mse</td>\n",
       "<td>0.0261072</td>\n",
       "<td>0.0093786</td>\n",
       "<td>0.0000008</td>\n",
       "<td>0.0321178</td>\n",
       "<td>0.0350643</td>\n",
       "<td>0.0348105</td>\n",
       "<td>0.0285426</td></tr>\n",
       "<tr><td>precision</td>\n",
       "<td>0.9630551</td>\n",
       "<td>0.0135466</td>\n",
       "<td>1.0</td>\n",
       "<td>0.9508197</td>\n",
       "<td>0.9508197</td>\n",
       "<td>0.95</td>\n",
       "<td>0.9636363</td></tr>\n",
       "<tr><td>r2</td>\n",
       "<td>0.8886455</td>\n",
       "<td>0.0402782</td>\n",
       "<td>0.9999962</td>\n",
       "<td>0.8610412</td>\n",
       "<td>0.8482930</td>\n",
       "<td>0.8512562</td>\n",
       "<td>0.8826408</td></tr>\n",
       "<tr><td>recall</td>\n",
       "<td>1.0</td>\n",
       "<td>0.0</td>\n",
       "<td>1.0</td>\n",
       "<td>1.0</td>\n",
       "<td>1.0</td>\n",
       "<td>1.0</td>\n",
       "<td>1.0</td></tr>\n",
       "<tr><td>rmse</td>\n",
       "<td>0.1445772</td>\n",
       "<td>0.0510128</td>\n",
       "<td>0.0008959</td>\n",
       "<td>0.1792143</td>\n",
       "<td>0.1872546</td>\n",
       "<td>0.1865756</td>\n",
       "<td>0.1689456</td></tr>\n",
       "<tr><td>specificity</td>\n",
       "<td>0.935463</td>\n",
       "<td>0.0250187</td>\n",
       "<td>1.0</td>\n",
       "<td>0.9090909</td>\n",
       "<td>0.9090909</td>\n",
       "<td>0.9117647</td>\n",
       "<td>0.9473684</td></tr></table></div>"
      ],
      "text/plain": [
       "                         mean       sd          cv_1_valid    cv_2_valid    cv_3_valid    cv_4_valid    cv_5_valid\n",
       "-----------------------  ---------  ----------  ------------  ------------  ------------  ------------  ------------\n",
       "accuracy                 0.975824   0.00906177  1             0.967033      0.967033      0.967033      0.978022\n",
       "auc                      0.990974   0.00492372  1             0.982236      0.990596      0.98452       0.997517\n",
       "err                      0.0241758  0.00906177  0             0.032967      0.032967      0.032967      0.021978\n",
       "err_count                2.2        0.824621    0             3             3             3             2\n",
       "f0point5                 0.970164   0.0109459   1             0.960265      0.960265      0.959596      0.970696\n",
       "f1                       0.981084   0.00694572  1             0.97479       0.97479       0.974359      0.981482\n",
       "f2                       0.992323   0.00282141  1             0.989761      0.989761      0.989583      0.992509\n",
       "lift_top_group           1.57917    0.0613605   1.44444       1.56897       1.56897       1.59649       1.71698\n",
       "logloss                  0.247679   0.10309     0.000184902   0.375073      0.334259      0.366259      0.162622\n",
       "max_per_class_error      0.064537   0.0250187   0             0.0909091     0.0909091     0.0882353     0.0526316\n",
       "mcc                      0.949119   0.0192912   1             0.929721      0.929721      0.930686      0.955468\n",
       "mean_per_class_accuracy  0.967731   0.0125093   1             0.954545      0.954545      0.955882      0.973684\n",
       "mean_per_class_error     0.0322685  0.0125093   0             0.0454545     0.0454545     0.0441177     0.0263158\n",
       "mse                      0.0261072  0.00937858  8.02624e-07   0.0321178     0.0350643     0.0348105     0.0285426\n",
       "precision                0.963055   0.0135466   1             0.95082       0.95082       0.95          0.963636\n",
       "r2                       0.888645   0.0402782   0.999996      0.861041      0.848293      0.851256      0.882641\n",
       "recall                   1          0           1             1             1             1             1\n",
       "rmse                     0.144577   0.0510128   0.000895893   0.179214      0.187255      0.186576      0.168946\n",
       "specificity              0.935463   0.0250187   1             0.909091      0.909091      0.911765      0.947368"
      ]
     },
     "metadata": {},
     "output_type": "display_data"
    },
    {
     "name": "stdout",
     "output_type": "stream",
     "text": [
      "Scoring History: \n"
     ]
    },
    {
     "data": {
      "text/html": [
       "<div style=\"overflow:auto\"><table style=\"width:50%\"><tr><td><b></b></td>\n",
       "<td><b>timestamp</b></td>\n",
       "<td><b>duration</b></td>\n",
       "<td><b>training_speed</b></td>\n",
       "<td><b>epochs</b></td>\n",
       "<td><b>iterations</b></td>\n",
       "<td><b>samples</b></td>\n",
       "<td><b>training_rmse</b></td>\n",
       "<td><b>training_logloss</b></td>\n",
       "<td><b>training_r2</b></td>\n",
       "<td><b>training_auc</b></td>\n",
       "<td><b>training_pr_auc</b></td>\n",
       "<td><b>training_lift</b></td>\n",
       "<td><b>training_classification_error</b></td></tr>\n",
       "<tr><td></td>\n",
       "<td>2019-02-24 18:02:11</td>\n",
       "<td> 0.000 sec</td>\n",
       "<td>None</td>\n",
       "<td>0.0</td>\n",
       "<td>0</td>\n",
       "<td>0.0</td>\n",
       "<td>nan</td>\n",
       "<td>nan</td>\n",
       "<td>nan</td>\n",
       "<td>nan</td>\n",
       "<td>nan</td>\n",
       "<td>nan</td>\n",
       "<td>nan</td></tr>\n",
       "<tr><td></td>\n",
       "<td>2019-02-24 18:02:11</td>\n",
       "<td>43.655 sec</td>\n",
       "<td>15913 obs/sec</td>\n",
       "<td>0.8043956</td>\n",
       "<td>1</td>\n",
       "<td>366.0</td>\n",
       "<td>0.1340939</td>\n",
       "<td>0.0848777</td>\n",
       "<td>0.9224047</td>\n",
       "<td>0.9971860</td>\n",
       "<td>0.4827648</td>\n",
       "<td>1.5743945</td>\n",
       "<td>0.0175824</td></tr>\n",
       "<tr><td></td>\n",
       "<td>2019-02-24 18:02:12</td>\n",
       "<td>43.861 sec</td>\n",
       "<td>17314 obs/sec</td>\n",
       "<td>8.1054945</td>\n",
       "<td>10</td>\n",
       "<td>3688.0</td>\n",
       "<td>0.1150702</td>\n",
       "<td>0.0607478</td>\n",
       "<td>0.9428597</td>\n",
       "<td>0.9997290</td>\n",
       "<td>0.3147242</td>\n",
       "<td>1.5743945</td>\n",
       "<td>0.0087912</td></tr></table></div>"
      ],
      "text/plain": [
       "    timestamp            duration    training_speed    epochs    iterations    samples    training_rmse    training_logloss    training_r2    training_auc    training_pr_auc    training_lift    training_classification_error\n",
       "--  -------------------  ----------  ----------------  --------  ------------  ---------  ---------------  ------------------  -------------  --------------  -----------------  ---------------  -------------------------------\n",
       "    2019-02-24 18:02:11  0.000 sec                     0         0             0          nan              nan                 nan            nan             nan                nan              nan\n",
       "    2019-02-24 18:02:11  43.655 sec  15913 obs/sec     0.804396  1             366        0.134094         0.0848777           0.922405       0.997186        0.482765           1.57439          0.0175824\n",
       "    2019-02-24 18:02:12  43.861 sec  17314 obs/sec     8.10549   10            3688       0.11507          0.0607478           0.94286        0.999729        0.314724           1.57439          0.00879121"
      ]
     },
     "metadata": {},
     "output_type": "display_data"
    },
    {
     "name": "stdout",
     "output_type": "stream",
     "text": [
      "Variable Importances: \n"
     ]
    },
    {
     "data": {
      "text/html": [
       "<div style=\"overflow:auto\"><table style=\"width:50%\"><tr><td><b>variable</b></td>\n",
       "<td><b>relative_importance</b></td>\n",
       "<td><b>scaled_importance</b></td>\n",
       "<td><b>percentage</b></td></tr>\n",
       "<tr><td>area error</td>\n",
       "<td>1.0</td>\n",
       "<td>1.0</td>\n",
       "<td>0.0412919</td></tr>\n",
       "<tr><td>worst area</td>\n",
       "<td>0.9233761</td>\n",
       "<td>0.9233761</td>\n",
       "<td>0.0381279</td></tr>\n",
       "<tr><td>mean concave points</td>\n",
       "<td>0.9225333</td>\n",
       "<td>0.9225333</td>\n",
       "<td>0.0380931</td></tr>\n",
       "<tr><td>worst texture</td>\n",
       "<td>0.8924891</td>\n",
       "<td>0.8924891</td>\n",
       "<td>0.0368525</td></tr>\n",
       "<tr><td>worst smoothness</td>\n",
       "<td>0.8621823</td>\n",
       "<td>0.8621823</td>\n",
       "<td>0.0356011</td></tr>\n",
       "<tr><td>---</td>\n",
       "<td>---</td>\n",
       "<td>---</td>\n",
       "<td>---</td></tr>\n",
       "<tr><td>concavity error</td>\n",
       "<td>0.7459589</td>\n",
       "<td>0.7459589</td>\n",
       "<td>0.0308020</td></tr>\n",
       "<tr><td>mean area</td>\n",
       "<td>0.7454403</td>\n",
       "<td>0.7454403</td>\n",
       "<td>0.0307806</td></tr>\n",
       "<tr><td>smoothness error</td>\n",
       "<td>0.7412180</td>\n",
       "<td>0.7412180</td>\n",
       "<td>0.0306063</td></tr>\n",
       "<tr><td>mean smoothness</td>\n",
       "<td>0.7327076</td>\n",
       "<td>0.7327076</td>\n",
       "<td>0.0302549</td></tr>\n",
       "<tr><td>worst fractal dimension</td>\n",
       "<td>0.7124988</td>\n",
       "<td>0.7124988</td>\n",
       "<td>0.0294204</td></tr></table></div>"
      ],
      "text/plain": [
       "variable                 relative_importance    scaled_importance    percentage\n",
       "-----------------------  ---------------------  -------------------  --------------------\n",
       "area error               1.0                    1.0                  0.04129186898107291\n",
       "worst area               0.9233761429786682     0.9233761429786682   0.03812792671612362\n",
       "mean concave points      0.9225333333015442     0.9225333333015442   0.03809312552935983\n",
       "worst texture            0.8924890756607056     0.8924890756607056   0.03685254197922072\n",
       "worst smoothness         0.8621822595596313     0.8621822595596313   0.03560111689954169\n",
       "---                      ---                    ---                  ---\n",
       "concavity error          0.7459589242935181     0.7459589242935181   0.030802038167190036\n",
       "mean area                0.7454403042793274     0.7454403042793274   0.03078062337751311\n",
       "smoothness error         0.7412179708480835     0.7412179708480835   0.030606275338675784\n",
       "mean smoothness          0.7327075600624084     0.7327075600624084   0.03025486457153858\n",
       "worst fractal dimension  0.7124988436698914     0.7124988436698914   0.029420408901983105"
      ]
     },
     "metadata": {},
     "output_type": "display_data"
    },
    {
     "name": "stdout",
     "output_type": "stream",
     "text": [
      "\n",
      "See the whole table with table.as_data_frame()\n"
     ]
    },
    {
     "data": {
      "text/plain": []
     },
     "execution_count": 124,
     "metadata": {},
     "output_type": "execute_result"
    }
   ],
   "source": [
    "aml.leader"
   ]
  },
  {
   "cell_type": "code",
   "execution_count": 127,
   "metadata": {},
   "outputs": [
    {
     "data": {
      "text/plain": [
       "'C:\\\\i\\\\kazi\\\\code\\\\_Notebooks\\\\results\\\\h2o_automl\\\\DeepLearning_grid_1_AutoML_20190224_175857_model_2'"
      ]
     },
     "execution_count": 127,
     "metadata": {},
     "output_type": "execute_result"
    }
   ],
   "source": [
    "h2o.save_model(aml.leader, path = 'results/h2o_automl')"
   ]
  },
  {
   "cell_type": "code",
   "execution_count": 85,
   "metadata": {},
   "outputs": [],
   "source": [
    "h2o.cluster().shutdown()"
   ]
  },
  {
   "cell_type": "markdown",
   "metadata": {},
   "source": [
    "## Results"
   ]
  },
  {
   "cell_type": "code",
   "execution_count": 11,
   "metadata": {},
   "outputs": [
    {
     "data": {
      "text/html": [
       "<div>\n",
       "<style scoped>\n",
       "    .dataframe tbody tr th:only-of-type {\n",
       "        vertical-align: middle;\n",
       "    }\n",
       "\n",
       "    .dataframe tbody tr th {\n",
       "        vertical-align: top;\n",
       "    }\n",
       "\n",
       "    .dataframe thead th {\n",
       "        text-align: right;\n",
       "    }\n",
       "</style>\n",
       "<table border=\"1\" class=\"dataframe\">\n",
       "  <thead>\n",
       "    <tr style=\"text-align: right;\">\n",
       "      <th></th>\n",
       "      <th>Run</th>\n",
       "      <th>Elapsed</th>\n",
       "      <th>Accuracy</th>\n",
       "    </tr>\n",
       "  </thead>\n",
       "  <tbody>\n",
       "    <tr>\n",
       "      <th>4</th>\n",
       "      <td>h2o (350)</td>\n",
       "      <td>313</td>\n",
       "      <td>0.991</td>\n",
       "    </tr>\n",
       "    <tr>\n",
       "      <th>1</th>\n",
       "      <td>tpot (10/50)</td>\n",
       "      <td>368</td>\n",
       "      <td>0.982</td>\n",
       "    </tr>\n",
       "    <tr>\n",
       "      <th>2</th>\n",
       "      <td>tpot (50/50)</td>\n",
       "      <td>4997</td>\n",
       "      <td>0.982</td>\n",
       "    </tr>\n",
       "    <tr>\n",
       "      <th>3</th>\n",
       "      <td>h2o (60)</td>\n",
       "      <td>65</td>\n",
       "      <td>0.982</td>\n",
       "    </tr>\n",
       "    <tr>\n",
       "      <th>5</th>\n",
       "      <td>tpot (60)</td>\n",
       "      <td>62</td>\n",
       "      <td>0.982</td>\n",
       "    </tr>\n",
       "    <tr>\n",
       "      <th>6</th>\n",
       "      <td>tpot (360)</td>\n",
       "      <td>361</td>\n",
       "      <td>0.982</td>\n",
       "    </tr>\n",
       "    <tr>\n",
       "      <th>0</th>\n",
       "      <td>tpot (5/5)</td>\n",
       "      <td>25</td>\n",
       "      <td>0.904</td>\n",
       "    </tr>\n",
       "  </tbody>\n",
       "</table>\n",
       "</div>"
      ],
      "text/plain": [
       "            Run  Elapsed  Accuracy\n",
       "4     h2o (350)      313     0.991\n",
       "1  tpot (10/50)      368     0.982\n",
       "2  tpot (50/50)     4997     0.982\n",
       "3      h2o (60)       65     0.982\n",
       "5     tpot (60)       62     0.982\n",
       "6    tpot (360)      361     0.982\n",
       "0    tpot (5/5)       25     0.904"
      ]
     },
     "execution_count": 11,
     "metadata": {},
     "output_type": "execute_result"
    }
   ],
   "source": [
    "result_df = pd.read_csv('results/results_automl.csv')\n",
    "result_df.sort_values('Accuracy', ascending = False)"
   ]
  }
 ],
 "metadata": {
  "kernelspec": {
   "display_name": "Python 3",
   "language": "python",
   "name": "python3"
  },
  "language_info": {
   "codemirror_mode": {
    "name": "ipython",
    "version": 3
   },
   "file_extension": ".py",
   "mimetype": "text/x-python",
   "name": "python",
   "nbconvert_exporter": "python",
   "pygments_lexer": "ipython3",
   "version": "3.7.3"
  }
 },
 "nbformat": 4,
 "nbformat_minor": 2
}
